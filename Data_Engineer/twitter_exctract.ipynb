{
 "cells": [
  {
   "cell_type": "code",
   "execution_count": 1,
   "metadata": {},
   "outputs": [
    {
     "name": "stdout",
     "output_type": "stream",
     "text": [
      "Collecting python-binance\n",
      "  Downloading python_binance-1.0.17-py2.py3-none-any.whl (67 kB)\n",
      "     ---------------------------------------- 67.6/67.6 kB 1.9 MB/s eta 0:00:00\n",
      "Requirement already satisfied: requests in c:\\users\\nicon\\appdata\\local\\programs\\python\\python311\\lib\\site-packages (from python-binance) (2.29.0)\n",
      "Requirement already satisfied: six in c:\\users\\nicon\\appdata\\roaming\\python\\python311\\site-packages (from python-binance) (1.16.0)\n",
      "Collecting dateparser\n",
      "  Downloading dateparser-1.1.8-py2.py3-none-any.whl (293 kB)\n",
      "     -------------------------------------- 293.8/293.8 kB 3.6 MB/s eta 0:00:00\n",
      "Collecting aiohttp\n",
      "  Downloading aiohttp-3.8.4-cp311-cp311-win_amd64.whl (317 kB)\n",
      "     -------------------------------------- 317.2/317.2 kB 9.9 MB/s eta 0:00:00\n",
      "Collecting ujson\n",
      "  Downloading ujson-5.7.0-cp311-cp311-win_amd64.whl (41 kB)\n",
      "     ---------------------------------------- 41.3/41.3 kB ? eta 0:00:00\n",
      "Collecting websockets\n",
      "  Downloading websockets-11.0.3-cp311-cp311-win_amd64.whl (124 kB)\n",
      "     -------------------------------------- 124.7/124.7 kB 3.7 MB/s eta 0:00:00\n",
      "Collecting pycryptodome\n",
      "  Downloading pycryptodome-3.17-cp35-abi3-win_amd64.whl (1.7 MB)\n",
      "     ---------------------------------------- 1.7/1.7 MB 7.9 MB/s eta 0:00:00\n",
      "Collecting attrs>=17.3.0\n",
      "  Downloading attrs-23.1.0-py3-none-any.whl (61 kB)\n",
      "     -------------------------------------- 61.2/61.2 kB 296.0 kB/s eta 0:00:00\n",
      "Requirement already satisfied: charset-normalizer<4.0,>=2.0 in c:\\users\\nicon\\appdata\\local\\programs\\python\\python311\\lib\\site-packages (from aiohttp->python-binance) (3.1.0)\n",
      "Collecting multidict<7.0,>=4.5\n",
      "  Downloading multidict-6.0.4-cp311-cp311-win_amd64.whl (28 kB)\n",
      "Collecting async-timeout<5.0,>=4.0.0a3\n",
      "  Downloading async_timeout-4.0.2-py3-none-any.whl (5.8 kB)\n",
      "Collecting yarl<2.0,>=1.0\n",
      "  Downloading yarl-1.9.2-cp311-cp311-win_amd64.whl (60 kB)\n",
      "     ---------------------------------------- 60.2/60.2 kB ? eta 0:00:00\n",
      "Collecting frozenlist>=1.1.1\n",
      "  Downloading frozenlist-1.3.3-cp311-cp311-win_amd64.whl (32 kB)\n",
      "Collecting aiosignal>=1.1.2\n",
      "  Downloading aiosignal-1.3.1-py3-none-any.whl (7.6 kB)\n",
      "Requirement already satisfied: python-dateutil in c:\\users\\nicon\\appdata\\roaming\\python\\python311\\site-packages (from dateparser->python-binance) (2.8.2)\n",
      "Requirement already satisfied: pytz in c:\\users\\nicon\\appdata\\local\\programs\\python\\python311\\lib\\site-packages (from dateparser->python-binance) (2023.3)\n",
      "Collecting regex!=2019.02.19,!=2021.8.27\n",
      "  Downloading regex-2023.5.5-cp311-cp311-win_amd64.whl (267 kB)\n",
      "     -------------------------------------- 267.9/267.9 kB 8.1 MB/s eta 0:00:00\n",
      "Collecting tzlocal\n",
      "  Downloading tzlocal-5.0.1-py3-none-any.whl (20 kB)\n",
      "Requirement already satisfied: idna<4,>=2.5 in c:\\users\\nicon\\appdata\\local\\programs\\python\\python311\\lib\\site-packages (from requests->python-binance) (3.4)\n",
      "Requirement already satisfied: urllib3<1.27,>=1.21.1 in c:\\users\\nicon\\appdata\\local\\programs\\python\\python311\\lib\\site-packages (from requests->python-binance) (1.26.15)\n",
      "Requirement already satisfied: certifi>=2017.4.17 in c:\\users\\nicon\\appdata\\local\\programs\\python\\python311\\lib\\site-packages (from requests->python-binance) (2022.12.7)\n",
      "Requirement already satisfied: tzdata in c:\\users\\nicon\\appdata\\local\\programs\\python\\python311\\lib\\site-packages (from tzlocal->dateparser->python-binance) (2023.3)\n",
      "Installing collected packages: websockets, ujson, tzlocal, regex, pycryptodome, multidict, frozenlist, attrs, async-timeout, yarl, dateparser, aiosignal, aiohttp, python-binance\n",
      "Successfully installed aiohttp-3.8.4 aiosignal-1.3.1 async-timeout-4.0.2 attrs-23.1.0 dateparser-1.1.8 frozenlist-1.3.3 multidict-6.0.4 pycryptodome-3.17 python-binance-1.0.17 regex-2023.5.5 tzlocal-5.0.1 ujson-5.7.0 websockets-11.0.3 yarl-1.9.2\n",
      "Note: you may need to restart the kernel to use updated packages.\n"
     ]
    },
    {
     "name": "stderr",
     "output_type": "stream",
     "text": [
      "\n",
      "[notice] A new release of pip available: 22.3.1 -> 23.1.2\n",
      "[notice] To update, run: python.exe -m pip install --upgrade pip\n"
     ]
    }
   ],
   "source": [
    "pip install python-binance\n"
   ]
  },
  {
   "cell_type": "code",
   "execution_count": null,
   "metadata": {},
   "outputs": [],
   "source": [
    "from binance.client import Client\n",
    "import datetime\n",
    "\n",
    "# Configura tu API Key y API Secret de Binance\n",
    "api_key = ''\n",
    "api_secret = ''\n",
    "\n",
    "# Crea una instancia del cliente de Binance\n",
    "client = Client(api_key, api_secret)\n",
    "\n",
    "# Obtén el tiempo actual en formato Unix (milisegundos)\n",
    "timestamp = client.get_server_time()['serverTime']\n",
    "\n",
    "# Ejemplo: obtener el estado de la cuenta\n",
    "account_info = client.get_account()\n",
    "print(account_info)\n",
    "\n",
    "# Ejemplo: obtener el libro de órdenes para un par de criptomonedas\n",
    "depth = client.get_order_book(symbol='BTCUSDT')\n",
    "print(depth)\n",
    "\n",
    "\n",
    "# Convierte el timestamp a un objeto datetime\n",
    "dt = datetime.datetime.fromtimestamp(timestamp / 1000)\n",
    "\n",
    "# Obtén el año, minutos y segundos del objeto datetime\n",
    "year = dt.year\n",
    "minutes = dt.minute\n",
    "seconds = dt.second\n",
    "\n",
    "# Obtén el precio del Bitcoin en Binance\n",
    "symbol = 'BTCUSDT'  # Puedes cambiar el símbolo según tus necesidades\n",
    "price = client.get_symbol_ticker(symbol=symbol)['price']\n",
    "\n",
    "# Imprime el resultado\n",
    "print(f\"Precio de Bitcoin (Año: {year}, Minutos: {minutes}, Segundos: {seconds}): {price}\")\n"
   ]
  },
  {
   "cell_type": "code",
   "execution_count": 1,
   "metadata": {},
   "outputs": [
    {
     "name": "stdout",
     "output_type": "stream",
     "text": [
      "Collecting yfinanceNote: you may need to restart the kernel to use updated packages.\n"
     ]
    },
    {
     "name": "stderr",
     "output_type": "stream",
     "text": [
      "\n",
      "[notice] A new release of pip available: 22.3.1 -> 23.1.2\n",
      "[notice] To update, run: python.exe -m pip install --upgrade pip\n"
     ]
    },
    {
     "name": "stdout",
     "output_type": "stream",
     "text": [
      "\n",
      "  Downloading yfinance-0.2.18-py2.py3-none-any.whl (60 kB)\n",
      "     ---------------------------------------- 60.3/60.3 kB 1.1 MB/s eta 0:00:00\n",
      "Requirement already satisfied: pandas>=1.3.0 in c:\\users\\nicon\\appdata\\local\\programs\\python\\python311\\lib\\site-packages (from yfinance) (2.0.0)\n",
      "Requirement already satisfied: numpy>=1.16.5 in c:\\users\\nicon\\appdata\\local\\programs\\python\\python311\\lib\\site-packages (from yfinance) (1.24.2)\n",
      "Requirement already satisfied: requests>=2.26 in c:\\users\\nicon\\appdata\\local\\programs\\python\\python311\\lib\\site-packages (from yfinance) (2.29.0)\n",
      "Collecting multitasking>=0.0.7\n",
      "  Downloading multitasking-0.0.11-py3-none-any.whl (8.5 kB)\n",
      "Collecting lxml>=4.9.1\n",
      "  Downloading lxml-4.9.2-cp311-cp311-win_amd64.whl (3.8 MB)\n",
      "     ---------------------------------------- 3.8/3.8 MB 5.8 MB/s eta 0:00:00\n",
      "Collecting appdirs>=1.4.4\n",
      "  Downloading appdirs-1.4.4-py2.py3-none-any.whl (9.6 kB)\n",
      "Requirement already satisfied: pytz>=2022.5 in c:\\users\\nicon\\appdata\\local\\programs\\python\\python311\\lib\\site-packages (from yfinance) (2023.3)\n",
      "Collecting frozendict>=2.3.4\n",
      "  Downloading frozendict-2.3.8-py311-none-any.whl (14 kB)\n",
      "Collecting cryptography>=3.3.2\n",
      "  Downloading cryptography-40.0.2-cp36-abi3-win_amd64.whl (2.6 MB)\n",
      "     ---------------------------------------- 2.6/2.6 MB 9.3 MB/s eta 0:00:00\n",
      "Collecting beautifulsoup4>=4.11.1\n",
      "  Downloading beautifulsoup4-4.12.2-py3-none-any.whl (142 kB)\n",
      "     -------------------------------------- 143.0/143.0 kB 4.3 MB/s eta 0:00:00\n",
      "Collecting html5lib>=1.1\n",
      "  Downloading html5lib-1.1-py2.py3-none-any.whl (112 kB)\n",
      "     -------------------------------------- 112.2/112.2 kB 6.4 MB/s eta 0:00:00\n",
      "Collecting soupsieve>1.2\n",
      "  Downloading soupsieve-2.4.1-py3-none-any.whl (36 kB)\n",
      "Collecting cffi>=1.12\n",
      "  Downloading cffi-1.15.1-cp311-cp311-win_amd64.whl (179 kB)\n",
      "     -------------------------------------- 179.0/179.0 kB 2.2 MB/s eta 0:00:00\n",
      "Requirement already satisfied: six>=1.9 in c:\\users\\nicon\\appdata\\roaming\\python\\python311\\site-packages (from html5lib>=1.1->yfinance) (1.16.0)\n",
      "Collecting webencodings\n",
      "  Using cached webencodings-0.5.1-py2.py3-none-any.whl (11 kB)\n",
      "Requirement already satisfied: python-dateutil>=2.8.2 in c:\\users\\nicon\\appdata\\roaming\\python\\python311\\site-packages (from pandas>=1.3.0->yfinance) (2.8.2)\n",
      "Requirement already satisfied: tzdata>=2022.1 in c:\\users\\nicon\\appdata\\local\\programs\\python\\python311\\lib\\site-packages (from pandas>=1.3.0->yfinance) (2023.3)\n",
      "Requirement already satisfied: charset-normalizer<4,>=2 in c:\\users\\nicon\\appdata\\local\\programs\\python\\python311\\lib\\site-packages (from requests>=2.26->yfinance) (3.1.0)\n",
      "Requirement already satisfied: idna<4,>=2.5 in c:\\users\\nicon\\appdata\\local\\programs\\python\\python311\\lib\\site-packages (from requests>=2.26->yfinance) (3.4)\n",
      "Requirement already satisfied: urllib3<1.27,>=1.21.1 in c:\\users\\nicon\\appdata\\local\\programs\\python\\python311\\lib\\site-packages (from requests>=2.26->yfinance) (1.26.15)\n",
      "Requirement already satisfied: certifi>=2017.4.17 in c:\\users\\nicon\\appdata\\local\\programs\\python\\python311\\lib\\site-packages (from requests>=2.26->yfinance) (2022.12.7)\n",
      "Collecting pycparser\n",
      "  Using cached pycparser-2.21-py2.py3-none-any.whl (118 kB)\n",
      "Installing collected packages: webencodings, multitasking, appdirs, soupsieve, pycparser, lxml, html5lib, frozendict, cffi, beautifulsoup4, cryptography, yfinance\n",
      "Successfully installed appdirs-1.4.4 beautifulsoup4-4.12.2 cffi-1.15.1 cryptography-40.0.2 frozendict-2.3.8 html5lib-1.1 lxml-4.9.2 multitasking-0.0.11 pycparser-2.21 soupsieve-2.4.1 webencodings-0.5.1 yfinance-0.2.18\n"
     ]
    }
   ],
   "source": [
    "pip install yfinance\n"
   ]
  },
  {
   "cell_type": "code",
   "execution_count": 2,
   "metadata": {},
   "outputs": [
    {
     "name": "stdout",
     "output_type": "stream",
     "text": [
      "Precio actual de Bitcoin: 26867.669921875\n"
     ]
    }
   ],
   "source": [
    "import yfinance as yf\n",
    "from datetime import datetime\n",
    "\n",
    "def obtener_precio_bitcoin():\n",
    "    # Obtener el objeto ticker de Bitcoin\n",
    "    ticker = yf.Ticker(\"BTC-USD\")\n",
    "    \n",
    "    # Obtener el historial de precios con el rango de tiempo deseado\n",
    "    historial = ticker.history(period=\"1s\")  # Obtiene el precio más reciente\n",
    "    \n",
    "    # Obtener el precio más reciente\n",
    "    precio_actual = historial[\"Close\"].iloc[-1]\n",
    "    \n",
    "    return precio_actual\n",
    "\n",
    "# Obtener el precio actual del Bitcoin\n",
    "precio = obtener_precio_bitcoin()\n",
    "\n",
    "# Imprimir el precio\n",
    "print(\"Precio actual de Bitcoin:\", precio)\n"
   ]
  },
  {
   "cell_type": "code",
   "execution_count": null,
   "metadata": {},
   "outputs": [],
   "source": [
    "#Lamentablemente, la API de Yahoo Finance no proporciona datos de precios del Bitcoin con una granularidad temporal de año, minutos y segundos. \n",
    "# La API de Yahoo Finance generalmente ofrece datos históricos en intervalos diarios, semanales o mensuales."
   ]
  },
  {
   "cell_type": "code",
   "execution_count": null,
   "metadata": {},
   "outputs": [],
   "source": [
    "#por lo que probe implementando COINGECKO que trae el valor un poco mas actual"
   ]
  },
  {
   "cell_type": "code",
   "execution_count": 2,
   "metadata": {},
   "outputs": [
    {
     "name": "stdout",
     "output_type": "stream",
     "text": [
      "Collecting schedule\n",
      "  Downloading schedule-1.2.0-py2.py3-none-any.whl (11 kB)\n",
      "Installing collected packages: schedule\n",
      "Successfully installed schedule-1.2.0\n",
      "Note: you may need to restart the kernel to use updated packages.\n"
     ]
    },
    {
     "name": "stderr",
     "output_type": "stream",
     "text": [
      "\n",
      "[notice] A new release of pip available: 22.3.1 -> 23.1.2\n",
      "[notice] To update, run: python.exe -m pip install --upgrade pip\n"
     ]
    }
   ],
   "source": [
    "pip install schedule"
   ]
  },
  {
   "cell_type": "code",
   "execution_count": 4,
   "metadata": {},
   "outputs": [
    {
     "name": "stdout",
     "output_type": "stream",
     "text": [
      "Precio actual de Bitcoin: 26898\n",
      "Marca de tiempo: 2023-05-18 21:34:50\n",
      "Precio actual de Bitcoin: 26898\n",
      "Marca de tiempo: 2023-05-18 21:34:50\n",
      "Precio actual de Bitcoin: 26898\n",
      "Marca de tiempo: 2023-05-18 21:34:50\n"
     ]
    },
    {
     "ename": "KeyboardInterrupt",
     "evalue": "",
     "output_type": "error",
     "traceback": [
      "\u001b[1;31m---------------------------------------------------------------------------\u001b[0m",
      "\u001b[1;31mKeyboardInterrupt\u001b[0m                         Traceback (most recent call last)",
      "Cell \u001b[1;32mIn[4], line 32\u001b[0m\n\u001b[0;32m     29\u001b[0m tiempo_transcurrido \u001b[39m=\u001b[39m fin_tiempo \u001b[39m-\u001b[39m inicio_tiempo\n\u001b[0;32m     31\u001b[0m tiempo_espera \u001b[39m=\u001b[39m \u001b[39mmax\u001b[39m(\u001b[39m60\u001b[39m \u001b[39m-\u001b[39m tiempo_transcurrido, \u001b[39m0\u001b[39m)\n\u001b[1;32m---> 32\u001b[0m time\u001b[39m.\u001b[39;49msleep(tiempo_espera)\n",
      "\u001b[1;31mKeyboardInterrupt\u001b[0m: "
     ]
    }
   ],
   "source": [
    "import requests\n",
    "from datetime import datetime\n",
    "import time\n",
    "import schedule \n",
    "def obtener_precio_bitcoin():\n",
    "    url = \"https://api.coingecko.com/api/v3/simple/price?ids=bitcoin&vs_currencies=usd&include_last_updated_at=true\"\n",
    "    \n",
    "    # Hacer la solicitud a la API de CoinGecko\n",
    "    response = requests.get(url)\n",
    "    data = response.json()\n",
    "    \n",
    "    # Obtener el precio y la marca de tiempo\n",
    "    precio = data['bitcoin']['usd']\n",
    "    marca_tiempo = datetime.fromtimestamp(data['bitcoin']['last_updated_at'])\n",
    "    \n",
    "    return precio, marca_tiempo\n",
    "\n",
    "# Obtener el precio actual del Bitcoin\n",
    "precio, marca_tiempo = obtener_precio_bitcoin()\n",
    "\n",
    "while True:\n",
    "    inicio_tiempo = time.time()\n",
    "\n",
    "    precio, marca_tiempo = obtener_precio_bitcoin()\n",
    "    print(\"Precio actual de Bitcoin:\", precio)\n",
    "    print(\"Marca de tiempo:\", marca_tiempo)\n",
    "\n",
    "    fin_tiempo = time.time()\n",
    "    tiempo_transcurrido = fin_tiempo - inicio_tiempo\n",
    "\n",
    "    tiempo_espera = max(60 - tiempo_transcurrido, 0)\n",
    "    time.sleep(tiempo_espera)"
   ]
  },
  {
   "cell_type": "code",
   "execution_count": null,
   "metadata": {},
   "outputs": [],
   "source": [
    "# creamos el codigo para que nos de cada 1 minuto la actualizacion real del bitcoin , podriamos tambien pararlo y que cada X cantidad de tiempo se ejecute solo \n",
    "#podriamos automatizar este proceso implementando DAG de apache airflow aumentando la eficiencia "
   ]
  },
  {
   "cell_type": "code",
   "execution_count": 1,
   "metadata": {},
   "outputs": [],
   "source": [
    "pip install apache-airflow"
   ]
  },
  {
   "cell_type": "code",
   "execution_count": 3,
   "metadata": {},
   "outputs": [
    {
     "ename": "ModuleNotFoundError",
     "evalue": "No module named 'airflow'",
     "output_type": "error",
     "traceback": [
      "\u001b[1;31m---------------------------------------------------------------------------\u001b[0m",
      "\u001b[1;31mModuleNotFoundError\u001b[0m                       Traceback (most recent call last)",
      "Cell \u001b[1;32mIn[3], line 3\u001b[0m\n\u001b[0;32m      1\u001b[0m \u001b[39mimport\u001b[39;00m \u001b[39mrequests\u001b[39;00m\n\u001b[0;32m      2\u001b[0m \u001b[39mfrom\u001b[39;00m \u001b[39mdatetime\u001b[39;00m \u001b[39mimport\u001b[39;00m datetime\n\u001b[1;32m----> 3\u001b[0m \u001b[39mfrom\u001b[39;00m \u001b[39mairflow\u001b[39;00m \u001b[39mimport\u001b[39;00m DAG\n\u001b[0;32m      4\u001b[0m \u001b[39mfrom\u001b[39;00m \u001b[39mairflow\u001b[39;00m\u001b[39m.\u001b[39;00m\u001b[39moperators\u001b[39;00m\u001b[39m.\u001b[39;00m\u001b[39mpython_operator\u001b[39;00m \u001b[39mimport\u001b[39;00m PythonOperator\n\u001b[0;32m      5\u001b[0m \u001b[39mfrom\u001b[39;00m \u001b[39mairflow\u001b[39;00m\u001b[39m.\u001b[39;00m\u001b[39mutils\u001b[39;00m\u001b[39m.\u001b[39;00m\u001b[39mdates\u001b[39;00m \u001b[39mimport\u001b[39;00m datetime \u001b[39mas\u001b[39;00m dt\n",
      "\u001b[1;31mModuleNotFoundError\u001b[0m: No module named 'airflow'"
     ]
    }
   ],
   "source": [
    "import requests\n",
    "from datetime import datetime\n",
    "from airflow import DAG\n",
    "from airflow.operators.python_operator import PythonOperator\n",
    "from airflow.utils.dates import datetime as dt\n",
    "from time import sleep\n",
    "\n",
    "def obtener_precio_bitcoin():\n",
    "    url = \"https://api.coingecko.com/api/v3/simple/price?ids=bitcoin&vs_currencies=usd&include_last_updated_at=true\"\n",
    "\n",
    "    # Hacer la solicitud a la API de CoinGecko\n",
    "    response = requests.get(url)\n",
    "    data = response.json()\n",
    "\n",
    "    # Obtener el precio y la marca de tiempo\n",
    "    precio = data['bitcoin']['usd']\n",
    "    marca_tiempo = datetime.fromtimestamp(data['bitcoin']['last_updated_at'])\n",
    "\n",
    "    return precio, marca_tiempo\n",
    "\n",
    "def ejecutar_codigo():\n",
    "    precio, marca_tiempo = obtener_precio_bitcoin()\n",
    "    print(\"Precio actual de Bitcoin:\", precio)\n",
    "    print(\"Marca de tiempo:\", marca_tiempo)\n",
    "\n",
    "\n",
    "default_args = {\n",
    "    'owner': 'airflow',\n",
    "    'start_date': dt(2023, 5, 1),\n",
    "    'retries': 0\n",
    "}\n",
    "\n",
    "dag = DAG('actualizacion_bitcoin', default_args=default_args, schedule_interval='*/1 * * * *')\n",
    "\n",
    "task = PythonOperator(\n",
    "    task_id='ejecutar_codigo',\n",
    "    python_callable=ejecutar_codigo,\n",
    "    dag=dag\n",
    ")\n"
   ]
  }
 ],
 "metadata": {
  "kernelspec": {
   "display_name": "Python 3",
   "language": "python",
   "name": "python3"
  },
  "language_info": {
   "codemirror_mode": {
    "name": "ipython",
    "version": 3
   },
   "file_extension": ".py",
   "mimetype": "text/x-python",
   "name": "python",
   "nbconvert_exporter": "python",
   "pygments_lexer": "ipython3",
   "version": "3.11.2"
  },
  "orig_nbformat": 4
 },
 "nbformat": 4,
 "nbformat_minor": 2
}
